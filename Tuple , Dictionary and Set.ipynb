{
 "cells": [
  {
   "cell_type": "markdown",
   "metadata": {},
   "source": [
    "# Tuple\n",
    "\n",
    "#### Example,     a  = ('Delhi' , 'Mumbai' , 'Banglore' , 'Hyderabad' , 'Pune')"
   ]
  },
  {
   "cell_type": "markdown",
   "metadata": {},
   "source": [
    "- Anything which we kept inside in a paranthesis or round bracket ( ) .\n",
    "- Tuple is simillar to list but list is mutable and tuple is immutable and tuple takes less memory than list.\n",
    "- Tuple is a sequence.\n",
    "- it is immutable and iterable.\n",
    "- tuples item are ordered , unchangerable and allows duplicate values."
   ]
  },
  {
   "cell_type": "code",
   "execution_count": 1,
   "metadata": {},
   "outputs": [
    {
     "name": "stdout",
     "output_type": "stream",
     "text": [
      "<class 'tuple'>\n"
     ]
    }
   ],
   "source": [
    "a = (10,20)\n",
    "print(type(a))"
   ]
  },
  {
   "cell_type": "code",
   "execution_count": 2,
   "metadata": {},
   "outputs": [
    {
     "name": "stdout",
     "output_type": "stream",
     "text": [
      "('p', 'y', 't', 'h', 'o', 'n')\n",
      "('hello', 'world')\n",
      "(40, 10, 20, 30)\n"
     ]
    }
   ],
   "source": [
    "#creating tuple form iteratble - type casting\n",
    "\n",
    "a = 'python'\n",
    "b = ['hello' , 'world']\n",
    "c = {10,20,30,40}\n",
    "\n",
    "print(tuple(a))\n",
    "print(tuple(b))\n",
    "print(tuple(c))"
   ]
  },
  {
   "cell_type": "markdown",
   "metadata": {},
   "source": [
    "### Properties of tuple\n",
    "- sequnece data type\n",
    "- indxing\n",
    "- slicing\n",
    "- concatenation , repition , identity , membership\n",
    "- immutable"
   ]
  },
  {
   "cell_type": "code",
   "execution_count": 3,
   "metadata": {},
   "outputs": [
    {
     "name": "stdout",
     "output_type": "stream",
     "text": [
      "10\n",
      "(10, 30)\n"
     ]
    }
   ],
   "source": [
    "a = (10,20,30,40)\n",
    "print(a[0])                #indexing\n",
    "print(a[0:5:2])            #slicing"
   ]
  },
  {
   "cell_type": "code",
   "execution_count": 4,
   "metadata": {},
   "outputs": [
    {
     "name": "stdout",
     "output_type": "stream",
     "text": [
      "['__add__', '__class__', '__contains__', '__delattr__', '__dir__', '__doc__', '__eq__', '__format__', '__ge__', '__getattribute__', '__getitem__', '__getnewargs__', '__gt__', '__hash__', '__init__', '__init_subclass__', '__iter__', '__le__', '__len__', '__lt__', '__mul__', '__ne__', '__new__', '__reduce__', '__reduce_ex__', '__repr__', '__rmul__', '__setattr__', '__sizeof__', '__str__', '__subclasshook__', 'count', 'index']\n"
     ]
    }
   ],
   "source": [
    "print(dir(tuple))"
   ]
  },
  {
   "cell_type": "code",
   "execution_count": 5,
   "metadata": {},
   "outputs": [
    {
     "name": "stdout",
     "output_type": "stream",
     "text": [
      "2\n",
      "3\n"
     ]
    }
   ],
   "source": [
    "#Count , index\n",
    "b = (10,20,50,70,60,70)\n",
    "print(b.count(70))       #count\n",
    "print(b.index(70))       #index (if duplicates then the gives the first occured value index)"
   ]
  },
  {
   "cell_type": "markdown",
   "metadata": {},
   "source": [
    "### Tuple packing and unpacking"
   ]
  },
  {
   "cell_type": "code",
   "execution_count": 6,
   "metadata": {},
   "outputs": [
    {
     "name": "stdout",
     "output_type": "stream",
     "text": [
      "(1, 2, 3, 4, 5)\n"
     ]
    }
   ],
   "source": [
    "#Tuple Packing\n",
    "a = 1,2,3,4,5\n",
    "print(a)"
   ]
  },
  {
   "cell_type": "code",
   "execution_count": 7,
   "metadata": {},
   "outputs": [
    {
     "name": "stdout",
     "output_type": "stream",
     "text": [
      "10\n",
      "20\n",
      "30\n",
      "40\n",
      "10 20 30 40\n"
     ]
    }
   ],
   "source": [
    "#Tuple Unpacking\n",
    "a , b , c , d = 10,20,30,40\n",
    "print(a)\n",
    "print(b)\n",
    "print(c)\n",
    "print(d)\n",
    "print(a,b,c,d)\n",
    "\n",
    "# rules for unpacking\n",
    "#all the objects having the value for example if a , b , c = 10,20,30\n",
    "# lhs = rhs"
   ]
  },
  {
   "cell_type": "code",
   "execution_count": 8,
   "metadata": {},
   "outputs": [
    {
     "name": "stdout",
     "output_type": "stream",
     "text": [
      "(10,) <class 'tuple'>\n",
      "(10,) <class 'tuple'>\n"
     ]
    }
   ],
   "source": [
    "a = (10 ,)\n",
    "b = 10,\n",
    "print(a , type(a))\n",
    "print(b , type(b))"
   ]
  },
  {
   "cell_type": "code",
   "execution_count": 9,
   "metadata": {},
   "outputs": [
    {
     "name": "stdout",
     "output_type": "stream",
     "text": [
      "mahender <class 'str'>\n",
      "('mahender',) <class 'tuple'>\n"
     ]
    }
   ],
   "source": [
    "a = 'mahender'\n",
    "b = 'mahender' , \n",
    "\n",
    "print(a , type(a))\n",
    "print(b , type(b))"
   ]
  },
  {
   "cell_type": "code",
   "execution_count": null,
   "metadata": {},
   "outputs": [],
   "source": []
  },
  {
   "cell_type": "markdown",
   "metadata": {},
   "source": [
    "# Dictionary"
   ]
  },
  {
   "cell_type": "markdown",
   "metadata": {},
   "source": [
    "- Anything we kept in curly brackets {} , having key and value pairs in it.\n",
    "- a = {1 : 'Mahender' , 2 : 'Singh'}\n",
    "- a = {key : Value}"
   ]
  },
  {
   "cell_type": "markdown",
   "metadata": {},
   "source": [
    "# properties of dictionary\n",
    "\n",
    "- it is a colection of key value pair.\n",
    "- structured data type.\n",
    "- a key value is called as an item.\n",
    "- items are seperated by commas (,).\n",
    "- key and value is seperated by (:).\n",
    "- key cannot be duplicated.\n",
    "- value can be duplicated.\n",
    "- key is always immutable.\n",
    "- values can be anything.\n",
    "- dic is not a sequnce data type (indexing , slicing , concatination , repetion , iteration).\n",
    "- mebership is only applicable on keys.\n",
    "- key is immutable wherease Value is mutable.\n",
    "- dic is mutable.\n",
    "- Structured data."
   ]
  },
  {
   "cell_type": "code",
   "execution_count": 10,
   "metadata": {},
   "outputs": [
    {
     "name": "stdout",
     "output_type": "stream",
     "text": [
      "{'Name': 'Mahender Singh', 'Empid': '1234', 'Department': 'Analytics', 'Salary': 40000}\n"
     ]
    }
   ],
   "source": [
    "a = {'Name' : 'Mahender Singh' , 'Empid' : '1234' , 'Department' : 'Analytics' , 'Salary' : 40000}\n",
    "print(a)"
   ]
  },
  {
   "cell_type": "code",
   "execution_count": 11,
   "metadata": {},
   "outputs": [
    {
     "name": "stdout",
     "output_type": "stream",
     "text": [
      "{'fruit1': 'apple', 'fruit2': 'banana'} <class 'dict'>\n"
     ]
    }
   ],
   "source": [
    "# 1. already knows the value\n",
    "a = {'fruit1':'apple', 'fruit2':'banana'}\n",
    "print(a, type(a))"
   ]
  },
  {
   "cell_type": "code",
   "execution_count": 15,
   "metadata": {},
   "outputs": [
    {
     "name": "stdout",
     "output_type": "stream",
     "text": [
      "please enter the dic : {'fruit1': 'apple', 'fruit2': 'banana'}\n",
      "{'fruit1': 'apple', 'fruit2': 'banana'} <class 'dict'>\n"
     ]
    }
   ],
   "source": [
    "#2. user input\n",
    "\n",
    "a = eval(input('please enter the dic : '))\n",
    "print(a, type(a))"
   ]
  },
  {
   "cell_type": "code",
   "execution_count": 16,
   "metadata": {},
   "outputs": [
    {
     "name": "stdout",
     "output_type": "stream",
     "text": [
      "{1: 2, 2: 3, 3: 4} <class 'dict'>\n",
      "{1: 2, 2: 3, 3: 4} <class 'dict'>\n"
     ]
    }
   ],
   "source": [
    "#3 . type casting - seq of seq and inner seq should have a 2 elements each\n",
    "\n",
    "a = dict([(1,2),(2,3),(3,4)])\n",
    "b = dict([[1,2],[2,3],[3,4]])\n",
    "\n",
    "print(a, type(a))\n",
    "print(b, type(b))"
   ]
  },
  {
   "cell_type": "code",
   "execution_count": 17,
   "metadata": {},
   "outputs": [
    {
     "name": "stdout",
     "output_type": "stream",
     "text": [
      "{'emp1': {'name': 'mahender', 'age': 24}, 'emp3': {'name': 'xyz', 'age': 24}, 'emp2': {'name': 'abc', 'age': 24}}\n"
     ]
    }
   ],
   "source": [
    "# employee data\n",
    "\n",
    "a = {'emp1':{'name':'mahender' , 'age':24},'emp3':{'name':'xyz' , 'age':24},'emp2':{'name':'abc' , 'age':24}}\n",
    "print(a)"
   ]
  },
  {
   "cell_type": "code",
   "execution_count": 22,
   "metadata": {},
   "outputs": [
    {
     "name": "stdout",
     "output_type": "stream",
     "text": [
      "{'name': 'xyz', 'age': 24}\n",
      "24\n"
     ]
    }
   ],
   "source": [
    "#acessing the value inside a dictionary\n",
    "print(a['emp3'])\n",
    "print(a['emp3']['age'])"
   ]
  },
  {
   "cell_type": "code",
   "execution_count": 23,
   "metadata": {},
   "outputs": [
    {
     "name": "stdout",
     "output_type": "stream",
     "text": [
      "{'Name': 'Mahender', 'age': 24}\n",
      "{'Name': 'Mahender', 'Age': 24}\n"
     ]
    }
   ],
   "source": [
    "#updating the DIctionary\n",
    "#1.If key is not in dictionary.\n",
    "a = {'Name':'Mahender'}\n",
    "a['age'] = 24\n",
    "print(a)\n",
    "\n",
    "#2 If key is in dictionary\n",
    "b ={'Name' : 'Mahender' , 'Age' : 26}\n",
    "b['Age'] = 24\n",
    "print(b)"
   ]
  },
  {
   "cell_type": "markdown",
   "metadata": {},
   "source": [
    "### Methods to add and access the element from the dictionary\n",
    "- get\n",
    "- setdefult\n",
    "- update"
   ]
  },
  {
   "cell_type": "code",
   "execution_count": 24,
   "metadata": {},
   "outputs": [
    {
     "name": "stdout",
     "output_type": "stream",
     "text": [
      "Mahender Singh\n",
      "{'name': 'Mahender Singh', 'age': 24}\n",
      "None\n",
      "{'name': 'Mahender Singh', 'age': 24}\n"
     ]
    }
   ],
   "source": [
    "# get\n",
    "\n",
    "# if the key is present it returns the value, else the default value none.\n",
    "\n",
    "\n",
    "a = {'name':'Mahender Singh' , 'age' : 24}\n",
    "\n",
    "print(a.get('name'))\n",
    "print(a)\n",
    "print(a.get('name1'))\n",
    "print(a)"
   ]
  },
  {
   "cell_type": "code",
   "execution_count": 25,
   "metadata": {},
   "outputs": [
    {
     "name": "stdout",
     "output_type": "stream",
     "text": [
      "Mahender\n",
      "24\n",
      "None\n",
      "{'name': 'Mahender', 'age': 24, 'name1': None}\n",
      "Key not found\n",
      "{'name': 'Mahender', 'age': 24, 'name1': None, 'salary': 'Key not found'}\n"
     ]
    }
   ],
   "source": [
    "#setdefault\n",
    "a = {'name':'Mahender' , 'age' : 24}\n",
    "\n",
    "# if the key is present , it will not do anything.\n",
    "\n",
    "print(a.setdefault('name'))\n",
    "\n",
    "print(a.setdefault('age'))\n",
    "\n",
    "\n",
    "# if the key is not present , it will add that key with default value or we can set the default value.\n",
    "\n",
    "print(a.setdefault('name1'))                         #the default value is none.  \n",
    "print(a)\n",
    "print(a.setdefault('salary' , 'Key not found'))      #we can set the default value.\n",
    "print(a)"
   ]
  },
  {
   "cell_type": "code",
   "execution_count": 27,
   "metadata": {},
   "outputs": [
    {
     "name": "stdout",
     "output_type": "stream",
     "text": [
      "{'Name': 'Mahender Singh', 'age': 25, 'Salary': 90000}\n",
      "{'Name': 'Mahender Singh', 'age': 24, 'Salary': 70000}\n",
      "{'Name': 'Mahender Singh', 'age': 24, 'Salary': 70000, 'Name2': 24}\n"
     ]
    }
   ],
   "source": [
    "#3 update\n",
    "\n",
    "a = {'Name':'Mahender Singh' , 'age' : 25 ,'Salary':90000}\n",
    "print(a)\n",
    "a.update({'age': 24 , 'Salary':70000})\n",
    "print(a)\n",
    "a.update({'Name2': 24 })\n",
    "print(a)"
   ]
  },
  {
   "cell_type": "code",
   "execution_count": 28,
   "metadata": {},
   "outputs": [
    {
     "name": "stdout",
     "output_type": "stream",
     "text": [
      "{'Name': 'Mahender Singh', 'age': 24, 'Salary': 80000}\n"
     ]
    }
   ],
   "source": [
    "b = {'Name':'Mahender Singh' , 'age' : 25 ,'Salary':80000}\n",
    "b.update({'age':24})\n",
    "print(b)"
   ]
  },
  {
   "cell_type": "markdown",
   "metadata": {},
   "source": [
    "### Remove data from dictionary\n",
    "- Pop\n",
    "- Pop Item"
   ]
  },
  {
   "cell_type": "code",
   "execution_count": 46,
   "metadata": {},
   "outputs": [
    {
     "name": "stdout",
     "output_type": "stream",
     "text": [
      "1\n",
      "value not found\n",
      "{'b': 2, 'c': 3}\n"
     ]
    }
   ],
   "source": [
    "# 1 pop - it removes the specifed key, value , if the key is not found default is \n",
    "# returend if given , else it will show an error\n",
    "\n",
    "dic_1 = {'a':1 , 'b':2 , 'c':3}\n",
    "\n",
    "a = dic_1.pop('a' )                          #if value is present gives the value\n",
    "b = dic_1.pop('f' , 'value not found')       ##if value is not present gives the default value which we set.\n",
    "\n",
    "print(a)\n",
    "print(b)\n",
    "print(dic_1)"
   ]
  },
  {
   "cell_type": "code",
   "execution_count": 80,
   "metadata": {},
   "outputs": [
    {
     "name": "stdout",
     "output_type": "stream",
     "text": [
      "('d', 4) <class 'tuple'>\n",
      "{'a': 1, 'b': 2} <class 'dict'>\n"
     ]
    }
   ],
   "source": [
    "# popitem - it removes the last element pairs as a tuple\n",
    "\n",
    "dic = {'a':1 , 'b':2 , 'c':3 , 'd':4}\n",
    "\n",
    "print(dic.popitem() , type(dic.popitem()))\n",
    "print(dic , type(dic))"
   ]
  },
  {
   "cell_type": "code",
   "execution_count": 82,
   "metadata": {},
   "outputs": [
    {
     "name": "stdout",
     "output_type": "stream",
     "text": [
      "None\n",
      "{}\n"
     ]
    }
   ],
   "source": [
    "#Clear\n",
    "\n",
    "dic1 = {'a':1 , 'b':2 , 'c':3 , 'd':4}\n",
    "print(dic1.clear())\n",
    "print(dic1)"
   ]
  },
  {
   "cell_type": "code",
   "execution_count": 96,
   "metadata": {},
   "outputs": [
    {
     "name": "stdout",
     "output_type": "stream",
     "text": [
      "{1, 2, 3, 4}\n",
      "<class 'set'>\n"
     ]
    }
   ],
   "source": [
    "#dic Comprehension\n",
    "\n",
    "a = {i for i in [1,2,3,4]}\n",
    "print(a)\n",
    "print(type(a))"
   ]
  },
  {
   "cell_type": "code",
   "execution_count": 97,
   "metadata": {},
   "outputs": [
    {
     "name": "stdout",
     "output_type": "stream",
     "text": [
      "{1: 1, 2: 2, 3: 3, 4: 4}\n",
      "<class 'dict'>\n"
     ]
    }
   ],
   "source": [
    "b = {i:i for i in [1,2,3,4]}\n",
    "print(b)\n",
    "print(type(b))"
   ]
  },
  {
   "cell_type": "code",
   "execution_count": 105,
   "metadata": {},
   "outputs": [
    {
     "data": {
      "text/plain": [
       "dict_keys(['a', 'b', 'c'])"
      ]
     },
     "execution_count": 105,
     "metadata": {},
     "output_type": "execute_result"
    }
   ],
   "source": [
    "# methods to check all the keys in dic\n",
    "dic_1 = {\"a\":1 , \"b\":2 , 'c':3}\n",
    "dic_1.keys()"
   ]
  },
  {
   "cell_type": "code",
   "execution_count": 106,
   "metadata": {},
   "outputs": [
    {
     "data": {
      "text/plain": [
       "dict_values([1, 2, 3])"
      ]
     },
     "execution_count": 106,
     "metadata": {},
     "output_type": "execute_result"
    }
   ],
   "source": [
    "# methods to check all the values in dic\n",
    "dic_1 = {\"a\":1 , \"b\":2 , 'c':3}\n",
    "dic_1.values()"
   ]
  },
  {
   "cell_type": "code",
   "execution_count": 107,
   "metadata": {},
   "outputs": [
    {
     "name": "stdout",
     "output_type": "stream",
     "text": [
      "{1: None, 2: None, 3: None, 4: None, 5: None}\n",
      "{1: 'Mahender', 2: 'Mahender', 3: 'Mahender', 4: 'Mahender', 5: 'Mahender'}\n"
     ]
    }
   ],
   "source": [
    "#from keys - create a new dic with keys from iterables and values set to default\n",
    "\n",
    "d1 = dict.fromkeys([1,2,3,4,5])\n",
    "print(d1)\n",
    "\n",
    "d2 = dict.fromkeys([1,2,3,4,5] , 'Mahender')\n",
    "print(d2)"
   ]
  },
  {
   "cell_type": "code",
   "execution_count": 104,
   "metadata": {},
   "outputs": [
    {
     "ename": "TypeError",
     "evalue": "'dict' object is not callable",
     "output_type": "error",
     "traceback": [
      "\u001b[1;31m---------------------------------------------------------------------------\u001b[0m",
      "\u001b[1;31mTypeError\u001b[0m                                 Traceback (most recent call last)",
      "\u001b[1;32m<ipython-input-104-83dd5f9375aa>\u001b[0m in \u001b[0;36m<module>\u001b[1;34m\u001b[0m\n\u001b[0;32m      4\u001b[0m \u001b[0mkeys\u001b[0m \u001b[1;33m=\u001b[0m \u001b[1;33m[\u001b[0m\u001b[0ma\u001b[0m\u001b[1;33m,\u001b[0m\u001b[0mb\u001b[0m\u001b[1;33m,\u001b[0m\u001b[0mc\u001b[0m\u001b[1;33m,\u001b[0m\u001b[0md\u001b[0m\u001b[1;33m]\u001b[0m\u001b[1;33m\u001b[0m\u001b[1;33m\u001b[0m\u001b[0m\n\u001b[0;32m      5\u001b[0m \u001b[0mValues\u001b[0m \u001b[1;33m=\u001b[0m \u001b[1;33m[\u001b[0m\u001b[1;36m1\u001b[0m\u001b[1;33m,\u001b[0m\u001b[1;36m2\u001b[0m\u001b[1;33m,\u001b[0m\u001b[1;36m3\u001b[0m\u001b[1;33m,\u001b[0m\u001b[1;36m4\u001b[0m\u001b[1;33m]\u001b[0m\u001b[1;33m\u001b[0m\u001b[1;33m\u001b[0m\u001b[0m\n\u001b[1;32m----> 6\u001b[1;33m \u001b[0mdic\u001b[0m\u001b[1;33m(\u001b[0m\u001b[0mzip\u001b[0m\u001b[1;33m(\u001b[0m\u001b[0mkeys\u001b[0m\u001b[1;33m,\u001b[0m\u001b[0mValues\u001b[0m\u001b[1;33m)\u001b[0m\u001b[1;33m)\u001b[0m\u001b[1;33m\u001b[0m\u001b[1;33m\u001b[0m\u001b[0m\n\u001b[0m",
      "\u001b[1;31mTypeError\u001b[0m: 'dict' object is not callable"
     ]
    }
   ],
   "source": [
    "#Zip \n",
    "#syntax  Zip(iter1 , iter2)\n",
    "\n",
    "keys = [a,b,c,d]\n",
    "Values = [1,2,3,4]\n",
    "dic(zip(keys,Values))"
   ]
  },
  {
   "cell_type": "code",
   "execution_count": null,
   "metadata": {},
   "outputs": [],
   "source": []
  },
  {
   "cell_type": "markdown",
   "metadata": {},
   "source": [
    "# Set\n",
    "- set is enclosed inside curly brackets\n",
    "- it is not a seq\n",
    "- indexing and slicing\n",
    "- immutable\n",
    "- UNORDERED DATATYPE\n",
    "- it is a collection of unqiue elements"
   ]
  },
  {
   "cell_type": "code",
   "execution_count": 109,
   "metadata": {},
   "outputs": [
    {
     "name": "stdout",
     "output_type": "stream",
     "text": [
      "{1, 2, 3, 4, 5, 6, 7, 8, 9}\n"
     ]
    }
   ],
   "source": [
    "#Collection of unique elements\n",
    "a = {1,1,1,1,1,1,1,2,2,3,3,3,4,4,5,6,6,7,4,6,8,9,}\n",
    "print(a)        "
   ]
  },
  {
   "cell_type": "code",
   "execution_count": null,
   "metadata": {},
   "outputs": [],
   "source": []
  },
  {
   "cell_type": "code",
   "execution_count": null,
   "metadata": {},
   "outputs": [],
   "source": []
  },
  {
   "cell_type": "code",
   "execution_count": null,
   "metadata": {},
   "outputs": [],
   "source": []
  }
 ],
 "metadata": {
  "kernelspec": {
   "display_name": "Python 3",
   "language": "python",
   "name": "python3"
  },
  "language_info": {
   "codemirror_mode": {
    "name": "ipython",
    "version": 3
   },
   "file_extension": ".py",
   "mimetype": "text/x-python",
   "name": "python",
   "nbconvert_exporter": "python",
   "pygments_lexer": "ipython3",
   "version": "3.8.5"
  }
 },
 "nbformat": 4,
 "nbformat_minor": 4
}
