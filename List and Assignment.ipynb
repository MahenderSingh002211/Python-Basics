{
 "cells": [
  {
   "cell_type": "markdown",
   "metadata": {},
   "source": [
    "# List \n",
    "\n",
    "#### Example Lst = [ 10,20,30,40]"
   ]
  },
  {
   "cell_type": "markdown",
   "metadata": {},
   "source": [
    "#### 1. List is a sequence and inclosed by square brackets.  ex [10,20,30,40].\n",
    "#### 2. Indexing and Slicing is possible.\n",
    "#### 3. List is mutable and iterable.\n",
    "#### 4. Duplicate data is allowed.\n",
    "#### 5. Inserting in list  (append,insert,extend).\n",
    "#### 6. Removing in list  (pop,remove,clear).\n",
    "#### 7. Concatination(+) , repetition(*) , logical, membership, comparision, Equality, identity operator are allowed."
   ]
  },
  {
   "cell_type": "code",
   "execution_count": 52,
   "metadata": {},
   "outputs": [
    {
     "name": "stdout",
     "output_type": "stream",
     "text": [
      "['m', 'a', 'h', 'e', 'n', 'd', 'e', 'r'] <class 'list'>\n"
     ]
    }
   ],
   "source": [
    "# making a list\n",
    "lst = list('mahender')\n",
    "print(lst , type(lst))"
   ]
  },
  {
   "cell_type": "code",
   "execution_count": 228,
   "metadata": {},
   "outputs": [],
   "source": [
    "# nesting list - list inside a list\n",
    "\n",
    "a = [[1,2,3] , [2,3,4] , [4,7,6] , 2]\n",
    "#         0        1          2      3"
   ]
  },
  {
   "cell_type": "code",
   "execution_count": 230,
   "metadata": {},
   "outputs": [
    {
     "data": {
      "text/plain": [
       "'b'"
      ]
     },
     "execution_count": 230,
     "metadata": {},
     "output_type": "execute_result"
    }
   ],
   "source": [
    "list1 = [[1,2,3] , [5,6,7] , [8,[9,10,['a','b']]]]\n",
    "# i want to extract b\n",
    "list1[2][1][2][1]"
   ]
  },
  {
   "cell_type": "code",
   "execution_count": 231,
   "metadata": {},
   "outputs": [
    {
     "data": {
      "text/plain": [
       "'b'"
      ]
     },
     "execution_count": 231,
     "metadata": {},
     "output_type": "execute_result"
    }
   ],
   "source": [
    "list1[-1][-1][-1][-1]"
   ]
  },
  {
   "cell_type": "code",
   "execution_count": 53,
   "metadata": {},
   "outputs": [
    {
     "name": "stdout",
     "output_type": "stream",
     "text": [
      "[20, 30, 40]\n",
      "[10, 20, 30]\n",
      "True\n",
      "False\n",
      "False\n",
      "True\n",
      "True\n"
     ]
    }
   ],
   "source": [
    "lst = [10,20,30]\n",
    "lst2 = [20,30,40]\n",
    "print(lst and lst2)     #Logical operators\n",
    "print(lst or lst2)\n",
    "print(lst not in lst2)  #membership operators\n",
    "print(lst in lst2)\n",
    "print(lst > lst2)       #comparision operator\n",
    "print(lst is not lst2)  #identity operator\n",
    "print(lst != lst2)      #equality operator"
   ]
  },
  {
   "cell_type": "code",
   "execution_count": 64,
   "metadata": {},
   "outputs": [
    {
     "name": "stdout",
     "output_type": "stream",
     "text": [
      "['__add__', '__class__', '__contains__', '__delattr__', '__delitem__', '__dir__', '__doc__', '__eq__', '__format__', '__ge__', '__getattribute__', '__getitem__', '__gt__', '__hash__', '__iadd__', '__imul__', '__init__', '__init_subclass__', '__iter__', '__le__', '__len__', '__lt__', '__mul__', '__ne__', '__new__', '__reduce__', '__reduce_ex__', '__repr__', '__reversed__', '__rmul__', '__setattr__', '__setitem__', '__sizeof__', '__str__', '__subclasshook__', 'append', 'clear', 'copy', 'count', 'extend', 'index', 'insert', 'pop', 'remove', 'reverse', 'sort']\n"
     ]
    }
   ],
   "source": [
    "# list methods\n",
    "print(dir(list))"
   ]
  },
  {
   "cell_type": "markdown",
   "metadata": {},
   "source": [
    "### Indexing ,Slicing ,Concatenation ,Repetition.  "
   ]
  },
  {
   "cell_type": "markdown",
   "metadata": {},
   "source": [
    "- slicing - accesing multiple element at a time.\n",
    "- indexing - acessing one element."
   ]
  },
  {
   "cell_type": "code",
   "execution_count": 190,
   "metadata": {},
   "outputs": [
    {
     "name": "stdout",
     "output_type": "stream",
     "text": [
      "Gurugram\n",
      "Banglore\n",
      "['Banglore', 'Nanital', 'Mumbai', 'Delhi', 'Noida', 'Gurugram']\n",
      "['Gurugram', 'Noida', 'Delhi', 'Mumbai', 'Nanital', 'Banglore']\n",
      "Noida\n",
      "Delhi\n",
      "['Gurugram', 'Noida', 'Delhi', 'Mumbai', 'Nanital', 'Banglore', 'Pune']\n",
      "['Pune', 'Pune', 'Pune']\n"
     ]
    }
   ],
   "source": [
    "lst = ['Gurugram','Noida','Delhi','Mumbai','Nanital','Banglore']       \n",
    "lst1 = ['Pune']\n",
    "print(lst[0])                    #indexing\n",
    "print(lst[-1])\n",
    "print(lst[-1:-len(lst)-1:-1])\n",
    "print(lst[0:6])                  #slicing\n",
    "print(lst[1])\n",
    "print(lst[2][0:5])\n",
    "print(lst + lst1)                #concatenation , it will always create new list (both should be list)\n",
    "print(lst1 * 3)                  #Repetition"
   ]
  },
  {
   "cell_type": "markdown",
   "metadata": {},
   "source": [
    "### Inserting and Removing from a list"
   ]
  },
  {
   "cell_type": "code",
   "execution_count": 195,
   "metadata": {},
   "outputs": [
    {
     "name": "stdout",
     "output_type": "stream",
     "text": [
      "None\n",
      "[10, 20, 30, 40, 50, 60]\n",
      "[70, 80, 90, 100, 110]\n",
      "[100, 130, 110, 120]\n"
     ]
    }
   ],
   "source": [
    "#inserting (insert,append,extend)\n",
    "lst = [10,20,30,40,50]\n",
    "print(lst.append(60))       #whenever you have any iterable is mutable the method will always return NONE and not create the new list.\n",
    "print(lst)\n",
    "lst1 = [70,80,90]\n",
    "lst1.extend([100,110])     #extend  it does not create the new list it will update the existing one. it is simillar to concatenation.\n",
    "print(lst1)\n",
    "lst2 = [100,110,120]\n",
    "lst2.insert(1,130)         #syntax = lst_name(index , element to be entered )\n",
    "print(lst2)                #insert into a particular index in a exisiting list without creating new list."
   ]
  },
  {
   "cell_type": "code",
   "execution_count": 196,
   "metadata": {},
   "outputs": [
    {
     "name": "stdout",
     "output_type": "stream",
     "text": [
      "70\n",
      "30\n",
      "[10, 20, 40, 50, 60]\n",
      "None\n",
      "[80, 90, 100]\n",
      "[1, 2, 3, 4, 4, 5]\n"
     ]
    }
   ],
   "source": [
    "#Removing (pop,remove)\n",
    "# 1.pop\n",
    "# removes the element by index.\n",
    "# by default value is the last index.\n",
    "# it is the only method that return the value and new list object list created.\n",
    "lst = [10,20,30,40,50,60,70]\n",
    "print(lst.pop())\n",
    "print(lst.pop(2))\n",
    "print(lst)\n",
    "\n",
    "#2.Remove\n",
    "lst1 = [80,90,100,110]\n",
    "print(lst1.remove(110))    #removes the elements by value.\n",
    "print(lst1)\n",
    "lst2 = [1,2,3,4,4,4,5]\n",
    "lst2.remove(4)\n",
    "print(lst2)                #it will remove the first occurence of 4 ex. index third is removed."
   ]
  },
  {
   "cell_type": "code",
   "execution_count": 199,
   "metadata": {},
   "outputs": [
    {
     "name": "stdout",
     "output_type": "stream",
     "text": [
      "None\n",
      "[5, 4, 3, 2, 1]\n"
     ]
    }
   ],
   "source": [
    "#reverse\n",
    "lst = [1,2,3,4,5]\n",
    "print(lst.reverse())\n",
    "print(lst)"
   ]
  },
  {
   "cell_type": "code",
   "execution_count": 204,
   "metadata": {},
   "outputs": [
    {
     "name": "stdout",
     "output_type": "stream",
     "text": [
      "[0, 1, 2, 5, 7, 8]\n",
      "[8, 7, 5, 2, 1, 0]\n"
     ]
    }
   ],
   "source": [
    "#sort - it will only work if the list is homogenous.\n",
    "lst = [2,5,8,0,1,7]\n",
    "lst.sort()             #default Ascending order\n",
    "print(lst)\n",
    "lst.sort(reverse=True) #for Descending order\n",
    "print(lst)"
   ]
  },
  {
   "cell_type": "code",
   "execution_count": 224,
   "metadata": {},
   "outputs": [
    {
     "name": "stdout",
     "output_type": "stream",
     "text": [
      "[]\n"
     ]
    },
    {
     "data": {
      "text/plain": [
       "3"
      ]
     },
     "execution_count": 224,
     "metadata": {},
     "output_type": "execute_result"
    }
   ],
   "source": [
    "#Clear - Clear the list to get empty list.\n",
    "lst = [1,2,3,4,5,6]\n",
    "lst.clear()\n",
    "print(lst)\n",
    "\n",
    "#Count - it will count how many times elemnts are available.\n",
    "lst1 = [1,2,4,5,5,5,8,0,3]\n",
    "lst1.count(5)"
   ]
  },
  {
   "cell_type": "markdown",
   "metadata": {},
   "source": [
    "### Shallow copy and Deep copy"
   ]
  },
  {
   "cell_type": "code",
   "execution_count": 226,
   "metadata": {},
   "outputs": [
    {
     "name": "stdout",
     "output_type": "stream",
     "text": [
      "1997603797888\n",
      "1997603797888\n",
      "[500, 2, 3, 4, 4, 5] 1997603797888\n",
      "[500, 2, 3, 4, 4, 5] 1997603797888\n"
     ]
    }
   ],
   "source": [
    "lst1 = [1,2,3,4]\n",
    "lst1 = lst2\n",
    "print(id(lst1))\n",
    "print(id(lst2))\n",
    "lst1[0] = 500            #it will change the index of both \n",
    "print(lst1 , id(lst1))\n",
    "print(lst2 , id(lst2))    "
   ]
  },
  {
   "cell_type": "code",
   "execution_count": 227,
   "metadata": {},
   "outputs": [
    {
     "name": "stdout",
     "output_type": "stream",
     "text": [
      "[5, 2, 8, 6, 7] 1997603676992\n",
      "[5, 2, 8, 6, 7] 1997602688192\n",
      "[5, 2, 8, 6, 7] 1997603676992\n",
      "[500, 2, 8, 6, 7] 1997602688192\n"
     ]
    }
   ],
   "source": [
    "#shallow copy\n",
    "lst1 = [5,2,8,6,7]\n",
    "lst2 = lst1.copy()  # shallow copy\n",
    "\n",
    "print(lst1 , id(lst1))\n",
    "print(lst2 , id(lst2))\n",
    "\n",
    "# lest try to change the index of lst2\n",
    "lst2[0]=500\n",
    "\n",
    "print(lst1 , id(lst1))\n",
    "print(lst2 , id(lst2))"
   ]
  },
  {
   "cell_type": "code",
   "execution_count": 232,
   "metadata": {},
   "outputs": [
    {
     "name": "stdout",
     "output_type": "stream",
     "text": [
      "[1, 2, 3, 4, 5, [1, 2, 3, 4, 5], 8, 9] 1997603889344\n",
      "[1, 2, 3, 4, 5, [1, 2, 3, 4, 5], 8, 9] 1997603908480\n",
      "[1, 2, 3, 4, 5, [500, 2, 3, 4, 5], 8, 9] 1997603889344\n",
      "[1, 2, 3, 4, 5, [500, 2, 3, 4, 5], 8, 9] 1997603908480\n"
     ]
    }
   ],
   "source": [
    "lst1 = [1,2,3,4,5,[1,2,3,4,5],8,9]  # nested list\n",
    "lst2 = lst1.copy()  # shallow copy\n",
    "\n",
    "print(lst1 , id(lst1))\n",
    "print(lst2 , id(lst2))\n",
    "\n",
    "# lest try to change the index of lst2\n",
    "lst2[5][0]=500\n",
    "\n",
    "print(lst1 , id(lst1))\n",
    "print(lst2 , id(lst2))"
   ]
  },
  {
   "cell_type": "code",
   "execution_count": 233,
   "metadata": {},
   "outputs": [
    {
     "name": "stdout",
     "output_type": "stream",
     "text": [
      "[1, 2, 3, 4, 5, [1, 2, 3, 4, 5], 8, 9] 1997603728320\n",
      "[1, 2, 3, 4, 5, [1, 2, 3, 4, 5], 8, 9] 1997603910912\n",
      "[1, 2, 3, 4, 5, [1, 2, 3, 4, 5], 8, 9] 1997603728320\n",
      "[1, 2, 3, 4, 5, [500, 2, 3, 4, 5], 8, 9] 1997603910912\n"
     ]
    }
   ],
   "source": [
    "# deep copy\n",
    "from copy import deepcopy\n",
    "\n",
    "lst1 = [1,2,3,4,5,[1,2,3,4,5],8,9]  # nested list\n",
    "lst2 = deepcopy(lst1)  # deep copy\n",
    "\n",
    "print(lst1 , id(lst1))\n",
    "print(lst2 , id(lst2))\n",
    "\n",
    "# lest try to change the index of lst2\n",
    "lst2[5][0]=500\n",
    "\n",
    "print(lst1 , id(lst1))\n",
    "print(lst2 , id(lst2))"
   ]
  },
  {
   "cell_type": "markdown",
   "metadata": {},
   "source": [
    "### List comprehension \n",
    "- technique which allows quick construction of list \n",
    "- more time efficent than the loops.\n",
    "- require fewer lines of codes .\n",
    "- Transfer iterative statement into a formula."
   ]
  },
  {
   "cell_type": "code",
   "execution_count": 236,
   "metadata": {},
   "outputs": [
    {
     "name": "stdout",
     "output_type": "stream",
     "text": [
      "[1, 4, 9, 16, 25, 36]\n",
      "[1, 4, 9, 16, 25, 36]\n"
     ]
    }
   ],
   "source": [
    "#long method\n",
    "a = [1,2,3,4,5,6]\n",
    "b = []\n",
    "for i in a:\n",
    "    b.append(i**2)\n",
    "print(b)\n",
    "\n",
    "b = [i ** 2 for i in a]\n",
    "print(b)"
   ]
  },
  {
   "cell_type": "markdown",
   "metadata": {},
   "source": [
    "## Assignment"
   ]
  },
  {
   "cell_type": "code",
   "execution_count": 241,
   "metadata": {},
   "outputs": [
    {
     "name": "stdout",
     "output_type": "stream",
     "text": [
      "Enter a string : peter piper picked a peck of pickled peppers.\n",
      "Output string  :  peppers. pickled of peck a picked piper peter\n"
     ]
    }
   ],
   "source": [
    "#Write a python program to find below output:-\n",
    "\n",
    "# Input = ''\n",
    "#Output:- 'peppers. pickled of peck a picked piper peter'\n",
    "\n",
    "a = str(input('Enter a string : '))\n",
    "print('Output string  : ' ,' '.join(a.split()[::-1]))"
   ]
  },
  {
   "cell_type": "code",
   "execution_count": 249,
   "metadata": {},
   "outputs": [
    {
     "name": "stdout",
     "output_type": "stream",
     "text": [
      "retep repip dekcip a kcep fo delkcip .sreppep\n"
     ]
    }
   ],
   "source": [
    "#Write a python program to find below output using list comprehensation:-\n",
    "\n",
    "#Input:- 'peter piper picked a peck of pickled peppers.'\n",
    "#Output:- 'retep repip dekcip a kcep fo delkcip .sreppep'\n",
    "\n",
    "a = 'peter piper picked a peck of pickled peppers.'\n",
    "b = (' '.join([i[::-1] for i in a.split()]))\n",
    "print(b)"
   ]
  },
  {
   "cell_type": "code",
   "execution_count": 252,
   "metadata": {},
   "outputs": [
    {
     "name": "stdout",
     "output_type": "stream",
     "text": [
      "Enter a string : peter piper picked a peck of pickled peppers.\n",
      "Output string  :  .sreppep delkcip fo kcep a dekcip repip retep\n"
     ]
    }
   ],
   "source": [
    "#Write a python program to find below output:-\n",
    "\n",
    "#Input:- 'peter piper picked a peck of pickled peppers.'\n",
    "#Output:- '.sreppep delkcip fo kcep a dekcip repip retep'\n",
    "\n",
    "a = str(input('Enter a string : '))\n",
    "print('Output string  : ' ,(a[::-1]))"
   ]
  },
  {
   "cell_type": "code",
   "execution_count": null,
   "metadata": {},
   "outputs": [],
   "source": []
  },
  {
   "cell_type": "code",
   "execution_count": null,
   "metadata": {},
   "outputs": [],
   "source": []
  }
 ],
 "metadata": {
  "kernelspec": {
   "display_name": "Python 3",
   "language": "python",
   "name": "python3"
  },
  "language_info": {
   "codemirror_mode": {
    "name": "ipython",
    "version": 3
   },
   "file_extension": ".py",
   "mimetype": "text/x-python",
   "name": "python",
   "nbconvert_exporter": "python",
   "pygments_lexer": "ipython3",
   "version": "3.8.5"
  }
 },
 "nbformat": 4,
 "nbformat_minor": 4
}
