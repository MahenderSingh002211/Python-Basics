{
 "cells": [
  {
   "cell_type": "markdown",
   "metadata": {},
   "source": [
    "# String Basic "
   ]
  },
  {
   "cell_type": "markdown",
   "metadata": {},
   "source": [
    "### Properties of String\n",
    "#### 1. String is case sensitive sequence means the Index/position of the object is not changed.\n",
    "#### 2. Sequence in python have +ve and -ve index.\n",
    "#### 3. Positive index starts from 0 to length of string and  left to right.\n",
    "#### 4. Negative index starts from -1 to length of string. right to left.\n",
    "#### 5. Slicing is also possible in string(taking a piece out of string) syntax = str_name[start_index:stop_index:stop]\n",
    "####     start index is inclusive and stop index is exclusive.\n",
    "#### 6.String is Iterable and Immutable."
   ]
  },
  {
   "cell_type": "code",
   "execution_count": 1,
   "metadata": {},
   "outputs": [
    {
     "name": "stdout",
     "output_type": "stream",
     "text": [
      "phncas\n",
      "pyhon class\n",
      "yhon class\n",
      "ssalc nohyp\n"
     ]
    }
   ],
   "source": [
    "my_str = 'pyhon class'\n",
    "print(my_str[::2])\n",
    "print(my_str[0:len(my_str)])\n",
    "print(my_str[1:len(my_str)])\n",
    "print(my_str[-1:-len(my_str)-1:-1])"
   ]
  },
  {
   "cell_type": "code",
   "execution_count": 2,
   "metadata": {},
   "outputs": [
    {
     "name": "stdout",
     "output_type": "stream",
     "text": [
      "pythonclass\n",
      "pyhon classpyhon classpyhon class\n",
      "True\n",
      "False\n",
      "True\n"
     ]
    }
   ],
   "source": [
    "my_str1 = 'python'\n",
    "my_str2 = 'class'\n",
    "print(my_str1 + my_str2)        #Airthmetic Operators\n",
    "print(my_str*3)\n",
    "print(my_str1 is not my_str2)   #Identity Operators\n",
    "print(my_str1 == my_str2)       #Equality Operators\n",
    "print('p' in my_str1)           #Membership Operators"
   ]
  },
  {
   "cell_type": "markdown",
   "metadata": {},
   "source": [
    "### Capitalize,Title,Lower,Casefold"
   ]
  },
  {
   "cell_type": "code",
   "execution_count": 3,
   "metadata": {},
   "outputs": [
    {
     "name": "stdout",
     "output_type": "stream",
     "text": [
      "Pyhon class\n",
      "Pyhon Class\n",
      "pyhon class\n",
      "pyhon class\n"
     ]
    }
   ],
   "source": [
    "print(my_str.capitalize())\n",
    "print(my_str.title())\n",
    "print(my_str.lower())\n",
    "print(my_str.casefold())"
   ]
  },
  {
   "cell_type": "markdown",
   "metadata": {},
   "source": [
    "### Isalpha,Isalnum,Isnumeric,Isidentidier"
   ]
  },
  {
   "cell_type": "code",
   "execution_count": 4,
   "metadata": {},
   "outputs": [
    {
     "name": "stdout",
     "output_type": "stream",
     "text": [
      "False\n",
      "False\n",
      "False\n",
      "False\n"
     ]
    }
   ],
   "source": [
    "print(my_str.isalpha())\n",
    "print(my_str.isalnum())\n",
    "print(my_str.isnumeric())\n",
    "print(my_str.isidentifier())"
   ]
  },
  {
   "cell_type": "markdown",
   "metadata": {},
   "source": [
    "### Startswith and Endswith"
   ]
  },
  {
   "cell_type": "code",
   "execution_count": 5,
   "metadata": {},
   "outputs": [
    {
     "name": "stdout",
     "output_type": "stream",
     "text": [
      "True\n",
      "True\n",
      "True\n"
     ]
    }
   ],
   "source": [
    "print(my_str.startswith('p'))\n",
    "print(my_str.startswith('py',0,2))\n",
    "print(my_str.endswith('s'))"
   ]
  },
  {
   "cell_type": "markdown",
   "metadata": {},
   "source": [
    "### Find,rFind,Index,rIndex"
   ]
  },
  {
   "cell_type": "code",
   "execution_count": 6,
   "metadata": {},
   "outputs": [],
   "source": [
    "my_str3 = 'mahender singhm'"
   ]
  },
  {
   "cell_type": "code",
   "execution_count": 7,
   "metadata": {},
   "outputs": [
    {
     "name": "stdout",
     "output_type": "stream",
     "text": [
      "0\n",
      "14\n",
      "0\n",
      "14\n"
     ]
    }
   ],
   "source": [
    "print(my_str3.find('m'))     #find the first occurrence  (value/index) , returns -1 if value not found.\n",
    "print(my_str3.rfind('m'))    #find the last occurrence  (value/index) , returns -1 if value not found.\n",
    "print(my_str3.index('m'))    #find the first occurrence (value/index) , returns value error if value not found.\n",
    "print(my_str3.rindex('m'))   #find the last occurrence (value/index) , returns value error if value not found."
   ]
  },
  {
   "cell_type": "code",
   "execution_count": 8,
   "metadata": {},
   "outputs": [
    {
     "name": "stdout",
     "output_type": "stream",
     "text": [
      "The first occurrence of the str2 is at :  0\n",
      "The last occurrence of the str2 is at :  26\n"
     ]
    }
   ],
   "source": [
    "## EXAMPPLE\n",
    "\n",
    "str1 = 'geeksforgeeks is good for geeks'\n",
    "str2 = 'geeks'\n",
    "print(\"The first occurrence of the str2 is at : \", str1.find(str2))\n",
    "print(\"The last occurrence of the str2 is at : \",str1.rfind(str2))"
   ]
  },
  {
   "cell_type": "markdown",
   "metadata": {},
   "source": [
    "### Strip , lstrip , rstrip"
   ]
  },
  {
   "cell_type": "code",
   "execution_count": 9,
   "metadata": {},
   "outputs": [
    {
     "name": "stdout",
     "output_type": "stream",
     "text": [
      "python\n",
      "python \n",
      "      python\n"
     ]
    }
   ],
   "source": [
    "my_str4 = '      python '\n",
    "print(my_str4.strip())     #remove space from both end.\n",
    "print(my_str4.lstrip())    #remove space from left end.\n",
    "print(my_str4.rstrip())    #remove space from right end."
   ]
  },
  {
   "cell_type": "markdown",
   "metadata": {},
   "source": [
    "### Center,Count,ljust,rjust,replace,split,join"
   ]
  },
  {
   "cell_type": "code",
   "execution_count": 10,
   "metadata": {},
   "outputs": [
    {
     "name": "stdout",
     "output_type": "stream",
     "text": [
      "****python class****\n",
      "2\n",
      "python clabcss\n",
      "python class********\n",
      "********python class\n",
      "['python', 'class']\n"
     ]
    }
   ],
   "source": [
    "my_str5 = 'python class'\n",
    "print(my_str5.center(20 , '*'))  #it will center allign the string using a specified character(space is default) as a fill character.\n",
    "print(my_str5.count('s'))\n",
    "print(my_str5.replace('a' , 'abc'))\n",
    "print(my_str5.ljust(20,'*'))\n",
    "print(my_str5.rjust(20,'*'))\n",
    "print(my_str5.split()) "
   ]
  },
  {
   "cell_type": "code",
   "execution_count": 11,
   "metadata": {},
   "outputs": [
    {
     "name": "stdout",
     "output_type": "stream",
     "text": [
      "2240281723568\n",
      "2240313641520\n"
     ]
    }
   ],
   "source": [
    "my = 'python'\n",
    "print(id(my))\n",
    "print(id(my.replace('p' ,'k')))\n",
    "#thats why string is immutable it have created a new string thus both have different id."
   ]
  },
  {
   "cell_type": "code",
   "execution_count": 12,
   "metadata": {},
   "outputs": [
    {
     "name": "stdout",
     "output_type": "stream",
     "text": [
      "python class\n"
     ]
    }
   ],
   "source": [
    "mytuple = ('python' , 'class')\n",
    "print(' '.join(mytuple))"
   ]
  },
  {
   "cell_type": "markdown",
   "metadata": {},
   "source": [
    "## Assignment "
   ]
  },
  {
   "cell_type": "code",
   "execution_count": 13,
   "metadata": {},
   "outputs": [
    {
     "name": "stdout",
     "output_type": "stream",
     "text": [
      "66\n",
      "66\n",
      "2240313194928\n",
      "2240313195056\n",
      "<class 'str'>\n",
      "<class 'str'>\n"
     ]
    }
   ],
   "source": [
    "#Write the code to get the output mentioned below print statement\n",
    "my_str = \"Although that way may not be obvious at first unless you're Dutch.\"\n",
    "my_str1 = \"Although that way may not be obvious at first unless you're Dutch.\"\n",
    "#output:- The length of my_str and my_str1\n",
    "#output:- id of my_str and my_str1 is same? - True\n",
    "#output:- Type of my_str is: str\n",
    "\n",
    "print(len(my_str))\n",
    "print(len(my_str1))\n",
    "print(id(my_str))\n",
    "print(id(my_str1))\n",
    "print(type(my_str))\n",
    "print(type(my_str1))"
   ]
  },
  {
   "cell_type": "code",
   "execution_count": 14,
   "metadata": {},
   "outputs": [
    {
     "name": "stdout",
     "output_type": "stream",
     "text": [
      "Although that way may not be obvious at first unless you're Dutch.\n",
      "Although that way may not be obvious at first unless you're Dutch.\n",
      "Although that way may not be obvious at first unless you're Dutch.\n",
      "Although that way may not be obvious at first unless you're Dutch.\n",
      ".hctuD er'uoy sselnu tsrif ta suoivbo eb ton yam yaw taht hguohtlA\n",
      "Atog htwymyntb biu tfrtuls o'eDth\n",
      "Ahgttam tebo  r lsorDc\n",
      ".hctuD er'uoy sselnu tsrif ta suoivbo eb ton yam yaw taht hguohtlA\n",
      ".hctuD er'uoy sselnu tsrif ta suoivbo eb ton yam yaw taht hguohtlA\n",
      ".cu ruysen si asovoe o a a athuhl\n",
      ".cu ruysen si asovoe o a a athuhl\n"
     ]
    }
   ],
   "source": [
    "#Slicing\n",
    "my_str = \"Although that way may not be obvious at first unless you're Dutch.\"\n",
    "#Write the code to get the output,instructions are mentioned below print statement. use slicing\n",
    "\n",
    "print(my_str[::])\n",
    "#output:- You have sliced: Although that way may not be obvious at first unless you're Dutch.Without begin, end and step\n",
    "\n",
    "print(my_str[0:len(my_str)])\n",
    "#output:- You have sliced: Although that way may not be obvious at first unless you're Dutch.\n",
    "#with begin as 0 end using len and without step\n",
    "\n",
    "\n",
    "print(my_str[::1])\n",
    "#output:- You have sliced: Although that way may not be obvious at first unless you're Dutch.\n",
    "#without begin and end but using step\n",
    "\n",
    "print(my_str[0:len(my_str):1])\n",
    "#output:- You have sliced: Although that way may not be obvious at first unless you're Dutch.With begin, end and step\n",
    "\n",
    "print(my_str[-1:-len(my_str)-1:-1])\n",
    "#output:- You have sliced:   .with using begin and end using postive values and step as negative values.\n",
    "#Slicing command should print empty string.\n",
    "\n",
    "\n",
    "print(my_str[0:len(my_str):2])\n",
    "#output:- You have sliced: Atog htwymyntb biu tfrtuls o'eDth\n",
    "\n",
    "\n",
    "print(my_str[0:len(my_str):3])\n",
    "#output:- You have sliced: Ahgttam tebo  r lsorDc\n",
    "\n",
    "\n",
    "print(my_str[::-1])\n",
    "#output:- You have sliced: .hctuD er'uoy sselnu tsrif ta suoivbo eb ton yam yaw taht hguohtlA. Use only step\n",
    "\n",
    "\n",
    "print(my_str[-1:-len(my_str)-1:-1])\n",
    "#output:- You have sliced: .hctuD er'uoy sselnu tsrif ta suoivbo eb ton yam yaw taht hguohtlA. Use begin end and step.\n",
    "\n",
    "print(my_str[::-2])\n",
    "#output:- You have sliced: .cu ruysen si asovoe o a a athuhl. use only step\n",
    "\n",
    "print(my_str[-1:-len(my_str)-1:-2])\n",
    "#output:- You have sliced: .cu ruysen si asovoe o a a athuhl. use begin, end and step.\n",
    "\n"
   ]
  },
  {
   "cell_type": "code",
   "execution_count": 15,
   "metadata": {},
   "outputs": [
    {
     "name": "stdout",
     "output_type": "stream",
     "text": [
      "python\n",
      "python\n",
      "\n",
      "nohtyp\n"
     ]
    }
   ],
   "source": [
    "dc = 'python'\n",
    "print(dc[0:len(dc)])\n",
    "print(dc[::1])\n",
    "print(dc[-1:-len(dc)-1])\n",
    "print(dc[::-1])"
   ]
  },
  {
   "cell_type": "code",
   "execution_count": 25,
   "metadata": {},
   "outputs": [
    {
     "name": "stdout",
     "output_type": "stream",
     "text": [
      "enter the string   : maheNDER\n",
      "Mahender\n"
     ]
    }
   ],
   "source": [
    "#Write the code which takes one string from user and if it starts with small case letter then convert it to corresponding \n",
    "#capital letter otherwise if starts with capital letters then convert first character of every word in that string into capital.\n",
    "str1 = str(input('enter the string   : '))\n",
    "if str1 == str1.lower():\n",
    "    str2 = str1.title()\n",
    "    print(str2)\n",
    "else :\n",
    "    str1 == str1.upper()\n",
    "    str3 = str2.title()\n",
    "    print(str3)"
   ]
  },
  {
   "cell_type": "code",
   "execution_count": 27,
   "metadata": {},
   "outputs": [
    {
     "name": "stdout",
     "output_type": "stream",
     "text": [
      "Enter a string  : Mahender\n",
      "No spaces found\n"
     ]
    }
   ],
   "source": [
    "#W A P which applies strip() method if any string, which will be taken from user, starts and ends with space, or applies \n",
    "#rrstrip() method if that string only ends with space or applies lstrip() method if that string only starts with a space.\n",
    "\n",
    "str1 = str(input('Enter a string  : '))\n",
    "if str1.startswith(' '):\n",
    "    print(str1.lstrip())\n",
    "elif str1.endswith(' '):\n",
    "    print(str1.rstrip())\n",
    "else:\n",
    "    print('No spaces found')"
   ]
  },
  {
   "cell_type": "code",
   "execution_count": 29,
   "metadata": {},
   "outputs": [
    {
     "name": "stdout",
     "output_type": "stream",
     "text": [
      "Enter a string  : Write a Python program to find the length of the my_str\n",
      "The length of the string is  55\n"
     ]
    }
   ],
   "source": [
    "#Write a Python program to find the length of the my_str:-\n",
    "\n",
    "#Input:- 'Write a Python program to find the length of the my_str'\n",
    "#Output:- 55\n",
    "my_str = str(input('Enter a string  : '))\n",
    "fac = 0\n",
    "for i in my_str:\n",
    "    fac += 1\n",
    "print('The length of the string is ', fac)"
   ]
  },
  {
   "cell_type": "code",
   "execution_count": 39,
   "metadata": {},
   "outputs": [
    {
     "name": "stdout",
     "output_type": "stream",
     "text": [
      "Enter a string : peter piper picked a peck of pickled peppers.\n",
      "0\n",
      "6\n",
      "8\n",
      "12\n",
      "21\n",
      "29\n",
      "37\n",
      "39\n",
      "40\n"
     ]
    }
   ],
   "source": [
    "#Write a Python Program, to print all the indexes of all occurences of letter 'p' appeared in the string:-\n",
    "    \n",
    "#Input:- 'peter piper picked a peck of pickled peppers.'\n",
    "#Output:- \n",
    "# 0\n",
    "# 6\n",
    "# 8\n",
    "# 12\n",
    "# 21\n",
    "# 29\n",
    "# 37\n",
    "# 39\n",
    "# 40\n",
    "\n",
    "my_str = str(input('Enter a string : '))\n",
    "for i in range(0, len(my_str)):\n",
    "    if my_str[i] == 'p' :\n",
    "        print(my_str.find('p' , i))"
   ]
  },
  {
   "cell_type": "code",
   "execution_count": null,
   "metadata": {},
   "outputs": [],
   "source": []
  },
  {
   "cell_type": "code",
   "execution_count": null,
   "metadata": {},
   "outputs": [],
   "source": []
  }
 ],
 "metadata": {
  "kernelspec": {
   "display_name": "Python 3",
   "language": "python",
   "name": "python3"
  },
  "language_info": {
   "codemirror_mode": {
    "name": "ipython",
    "version": 3
   },
   "file_extension": ".py",
   "mimetype": "text/x-python",
   "name": "python",
   "nbconvert_exporter": "python",
   "pygments_lexer": "ipython3",
   "version": "3.8.5"
  }
 },
 "nbformat": 4,
 "nbformat_minor": 4
}
