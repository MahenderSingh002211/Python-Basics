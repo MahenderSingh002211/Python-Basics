{
 "cells": [
  {
   "cell_type": "markdown",
   "metadata": {},
   "source": [
    "# conditional statament"
   ]
  },
  {
   "cell_type": "code",
   "execution_count": null,
   "metadata": {},
   "outputs": [],
   "source": [
    "stat1\n",
    "stat2\n",
    "stat3\n",
    "if condition:\n",
    "    stat4\n",
    "    stat5\n",
    "\n",
    "if the condition is true - 1 , 2 , 3 , 4 , 5\n",
    "if the condition is false - 1,2,3"
   ]
  },
  {
   "cell_type": "code",
   "execution_count": null,
   "metadata": {},
   "outputs": [],
   "source": [
    "stat1\n",
    "stat2\n",
    "stat3\n",
    "if condition:\n",
    "    stat4\n",
    "    stat5\n",
    "stat6\n",
    "stat7\n",
    "    \n",
    "if the condition is true - 1 , 2 , 3 , 4 , 5,6,7\n",
    "if the condition is false - 1,2,3 , 6 , 7"
   ]
  },
  {
   "cell_type": "code",
   "execution_count": null,
   "metadata": {},
   "outputs": [],
   "source": [
    "stat1\n",
    "stat2\n",
    "stat3\n",
    "if cond:\n",
    "    stat4\n",
    "    stat5\n",
    "else:\n",
    "    stat6\n",
    "    stat7\n",
    "stat8\n",
    "stat9\n",
    "    \n",
    "if the condition is true - 1,2,3,4,5,8,9\n",
    "if the condition is false - 1,2,3,6,7,8,9"
   ]
  },
  {
   "cell_type": "code",
   "execution_count": null,
   "metadata": {},
   "outputs": [],
   "source": [
    "stat1\n",
    "stat2\n",
    "stat3\n",
    "if cond1:\n",
    "    stat4\n",
    "    stat5\n",
    "if cond2:\n",
    "    stat6\n",
    "    stat7\n",
    "if cond3:\n",
    "    stat8\n",
    "    stat9\n",
    "else:\n",
    "    stat10\n",
    "    stat11\n",
    "stat12\n",
    "stat13\n",
    "    \n",
    "if the condtion1 is true - 1,2,3,4,5,10,11,12,13\n",
    "if the condtion1 and cond2 is true ,  - 1,2,3,4,5,6,7,10,11,12,13\n",
    "\n",
    "if the condtion1 is false and cond2 is true  ,cond3 is true- 1,2,3,6,7,8,9,12,1,3"
   ]
  },
  {
   "cell_type": "code",
   "execution_count": null,
   "metadata": {},
   "outputs": [],
   "source": [
    "stat1\n",
    "stat2\n",
    "stat3\n",
    "if cond1:\n",
    "    stat4\n",
    "    stat5\n",
    "else:\n",
    "    stat100\n",
    "    stat200\n",
    "if cond2:\n",
    "    stat6\n",
    "    stat7\n",
    "    if cond_2_1:\n",
    "        stat1000\n",
    "    else:\n",
    "        stat2000\n",
    "if cond3:\n",
    "    stat8\n",
    "    stat9\n",
    "else:\n",
    "    stat10\n",
    "    stat11\n",
    "    \n",
    "stat12\n",
    "stat13\n",
    "\n",
    "if the condtion1 is false and cond2 is true  ,cond3 is true , cond_2_1 is false- 1,2,3,100,200,6,7,2000,8,9,12,13 "
   ]
  },
  {
   "cell_type": "code",
   "execution_count": null,
   "metadata": {},
   "outputs": [],
   "source": [
    "if elif , else\n",
    "\n",
    "stat1\n",
    "stat2\n",
    "stat3\n",
    "if cond1:\n",
    "    stat4\n",
    "    stat5\n",
    "elif cond2:\n",
    "    stat6\n",
    "    stat7\n",
    "elif cond3:\n",
    "    stat8\n",
    "    stat9\n",
    "else:\n",
    "    stat10\n",
    "    stat11\n",
    "stat12\n",
    "stat13\n",
    "\n",
    "if cond1 is true and other condition are false - 1,2,3,4,5,12,13\n",
    "\n",
    "if cond2 is true and other condition are false - 1,2,3,6,7,12,13\n",
    "\n",
    "id all the conditions are false - 1,2,3,10,11,12,13"
   ]
  },
  {
   "cell_type": "code",
   "execution_count": 1,
   "metadata": {},
   "outputs": [
    {
     "name": "stdout",
     "output_type": "stream",
     "text": [
      "b is greater than a\n"
     ]
    }
   ],
   "source": [
    "a  =33\n",
    "b  =333\n",
    "if b > a:\n",
    "    print('b is greater than a')"
   ]
  },
  {
   "cell_type": "code",
   "execution_count": 2,
   "metadata": {},
   "outputs": [
    {
     "name": "stdout",
     "output_type": "stream",
     "text": [
      "b is greater than a\n"
     ]
    }
   ],
   "source": [
    "a  =33\n",
    "b  =333\n",
    "if b > a:\n",
    "    print('b is greater than a')"
   ]
  },
  {
   "cell_type": "code",
   "execution_count": 7,
   "metadata": {},
   "outputs": [
    {
     "name": "stdout",
     "output_type": "stream",
     "text": [
      "b == a\n",
      "b == a\n",
      "b is greater than a\n",
      "b is less than a\n",
      "b is greater than a\n"
     ]
    }
   ],
   "source": [
    "a  =33\n",
    "b  =33\n",
    "if b > a:\n",
    "    print('b is greater than a')\n",
    "elif b==a :\n",
    "    print('b == a')\n",
    "elif b < a:\n",
    "    print('b is less than a')\n",
    "\n",
    "    \n",
    "a  =33\n",
    "b  =33\n",
    "if b > a:\n",
    "    print('b is greater than a')\n",
    "if b==a :\n",
    "    print('b == a')\n",
    "if b < a:\n",
    "    print('b is less than a')\n",
    "    \n",
    "a  =33\n",
    "b  =333\n",
    "if b > a:\n",
    "    print('b is greater than a')\n",
    "    if b==a :\n",
    "        print('b == a')\n",
    "    else :\n",
    "        print('b is less than a')\n",
    "    \n",
    "    \n",
    "a  =33\n",
    "b  =333\n",
    "if b > a:\n",
    "    print('b is greater than a')\n",
    "elif b==a :\n",
    "    print('b == a')\n",
    "else :\n",
    "    print('b is less than a')"
   ]
  },
  {
   "cell_type": "code",
   "execution_count": 11,
   "metadata": {},
   "outputs": [
    {
     "name": "stdout",
     "output_type": "stream",
     "text": [
      "a is greater than both b and c\n"
     ]
    }
   ],
   "source": [
    "# ANd\n",
    "\n",
    "#both the condition should be satisfied\n",
    "\n",
    "a = 900\n",
    "b = 100\n",
    "c = 700\n",
    "\n",
    "if a>b and a>c:\n",
    "    print('a is greater than both b and c')\n",
    "else :\n",
    "    print('less than b and c')"
   ]
  },
  {
   "cell_type": "code",
   "execution_count": 12,
   "metadata": {},
   "outputs": [
    {
     "name": "stdout",
     "output_type": "stream",
     "text": [
      "a is greater than both b and c\n"
     ]
    }
   ],
   "source": [
    "# or\n",
    "a = 200\n",
    "b = 100\n",
    "c = 700\n",
    "\n",
    "if a>b or a>c:\n",
    "    print('a is greater than both b and c')"
   ]
  },
  {
   "cell_type": "code",
   "execution_count": 14,
   "metadata": {},
   "outputs": [
    {
     "name": "stdout",
     "output_type": "stream",
     "text": [
      "statment1\n",
      "stat2\n"
     ]
    }
   ],
   "source": [
    "# nested if  - if inside a if\n",
    "x = 91\n",
    "if x > 10:\n",
    "    print('statment1')\n",
    "    if x  > 30 :\n",
    "        print('stat2')\n",
    "    else:\n",
    "        print('stat3')\n",
    "else:\n",
    "    print('stmnt4')"
   ]
  },
  {
   "cell_type": "code",
   "execution_count": 15,
   "metadata": {},
   "outputs": [
    {
     "name": "stdout",
     "output_type": "stream",
     "text": [
      "statment_1\n"
     ]
    }
   ],
   "source": [
    "# pass - if statment cannot be empty \n",
    "\n",
    "a = 33\n",
    "b = 200\n",
    "\n",
    "if b > a:\n",
    "    pass\n",
    "if a<b:\n",
    "    print('statment_1')"
   ]
  },
  {
   "cell_type": "code",
   "execution_count": 112,
   "metadata": {},
   "outputs": [
    {
     "name": "stdout",
     "output_type": "stream",
     "text": [
      "['Ok', 'Ok', 'Very Ok']\n",
      "{'name': ['Biswajit', 'Subrajit', 'Guru'], 'age': [24, 25, 26], 'roll': [1, 2, 3], 'occ': ['job', 'job', 'buis'], 'status': ['Ok', 'Ok', 'Very Ok']}\n"
     ]
    }
   ],
   "source": [
    "input_1={'name':[\"Biswajit\",\"Subrajit\",\"Guru\"],\"age\":[24,25,26],\"roll\":[1,2,3],\"occ\":['job','job','buis']} \n",
    "#len(input.keys()) \n",
    "a=[] \n",
    "for i in range(0,len(input_1['occ'])): \n",
    "    if (input_1['occ'][i]=='job'): \n",
    "        a.append(\"Ok\") \n",
    "    else: \n",
    "        a.append(\"Very Ok\") \n",
    "print(a) \n",
    "input_1.update({\"status\":a})\n",
    "print(input_1) "
   ]
  },
  {
   "cell_type": "code",
   "execution_count": null,
   "metadata": {},
   "outputs": [],
   "source": [
    "# Q1. take an user input as a number 0-4 and print the number in the word format\n",
    "\n",
    "\n",
    "# sol1\n",
    "dict_1 = {'1':\"one\",'2':\"Two\",'3':\"Three\",'4':\"Four\"} \n",
    "str1 = input(\"Enter number\") \n",
    "for key , value in dict_1.items(): \n",
    "    if str1 == key: \n",
    "        print(value)\n",
    "    else: \n",
    "        print(\"Number doesn't exists\")\n",
    "        \n",
    "# sol2\n",
    "abc = input(\"enter number between 0-4: \") \n",
    "if abc == '0': \n",
    "    print('zero') \n",
    "if abc == '1': \n",
    "    print('one') \n",
    "if abc == '2': \n",
    "    print('two') \n",
    "if abc == '3': \n",
    "    print('three')\n",
    "if abc == '4': \n",
    "    print('four')"
   ]
  },
  {
   "cell_type": "markdown",
   "metadata": {},
   "source": [
    "#####  Q2 find a year entered by user is a leap year or not\n",
    "- if year is div by 4 leap\n",
    "- if year is div by 4 and year div by 100 and div by 400 -- leap year\n",
    "- if year is not div by 4 - no leap"
   ]
  },
  {
   "cell_type": "code",
   "execution_count": 28,
   "metadata": {},
   "outputs": [
    {
     "name": "stdout",
     "output_type": "stream",
     "text": [
      "Enter the year    : 400\n",
      "Leap year\n"
     ]
    }
   ],
   "source": [
    "#sol\n",
    "\n",
    "year = int(input('Enter the year    : '))\n",
    "\n",
    "if year % 4 == 0:\n",
    "    if year % 100 == 0:\n",
    "        if year % 400 == 0:\n",
    "            print('Leap year')\n",
    "        else:\n",
    "            print('Not leap year')\n",
    "    else:\n",
    "        print('Leap year')\n",
    "else:\n",
    "    print('Not a leap year')"
   ]
  },
  {
   "cell_type": "code",
   "execution_count": 39,
   "metadata": {},
   "outputs": [
    {
     "name": "stdout",
     "output_type": "stream",
     "text": [
      "Enter the first Number  :10\n",
      "Enter the second Number  :100\n",
      "addition of both the number is   :  110\n",
      "multiplication of both the number is   :  1000\n",
      "subtraction of both the number is   :  90\n",
      "division of both the number is   :  10.0\n"
     ]
    }
   ],
   "source": [
    "#Q3 design a calculator when enter two numbers will e taken by user\n",
    "#  operation code will be taken by user\n",
    "#     1- add\n",
    "#     2- sub\n",
    "#     3- mul\n",
    "#     5. div\n",
    "\n",
    "#sol\n",
    "\n",
    "N1 = int(input('Enter the first Number  :'))\n",
    "N2 = int(input('Enter the second Number  :'))\n",
    "\n",
    "add = N1 + N2\n",
    "print('addition of both the number is   : ' , add)\n",
    "\n",
    "mult = N1*N2\n",
    "print('multiplication of both the number is   : ' , mult)\n",
    "\n",
    "if N1>=N2 :\n",
    "    sub = N1-N2\n",
    "    print('subtraction of both the number is   : ' , sub)\n",
    "else :\n",
    "    sub = N2-N1\n",
    "    print('subtraction of both the number is   : ' , sub)\n",
    "\n",
    "if N1>=N2 :\n",
    "    div = N1/N2\n",
    "    print('division of both the number is   : ' , div)\n",
    "else :\n",
    "    div = N2/N1\n",
    "    print('division of both the number is   : ' , div)"
   ]
  },
  {
   "cell_type": "markdown",
   "metadata": {},
   "source": [
    "### While loop\n",
    "- if we dont know the iteration\n",
    "- if we want to start or stop the loop based on condtition\n",
    "\n",
    "syntax-\n",
    "1. intilisation\n",
    "2. condition checking\n",
    "3. increment / decrement"
   ]
  },
  {
   "cell_type": "code",
   "execution_count": 127,
   "metadata": {},
   "outputs": [
    {
     "name": "stdout",
     "output_type": "stream",
     "text": [
      "some random statement\n",
      "some random statement\n",
      "some random statement\n",
      "some random statement\n",
      "some random statement\n",
      "some random statement\n",
      "some random statement\n",
      "some random statement\n",
      "some random statement\n",
      "some random statement\n"
     ]
    }
   ],
   "source": [
    "i = 0  # intilisation\n",
    "while i < 10: # condtion checking\n",
    "    print('some random statement')\n",
    "    i = i+1  # increment"
   ]
  },
  {
   "cell_type": "code",
   "execution_count": 44,
   "metadata": {},
   "outputs": [
    {
     "name": "stdout",
     "output_type": "stream",
     "text": [
      "p\n",
      "yy\n",
      "ttt\n",
      "hhhh\n",
      "ooooo\n",
      "nnnnnn\n",
      "p\n",
      "yy\n",
      "ttt\n",
      "hhhh\n",
      "ooooo\n",
      "nnnnnn\n",
      "p\n",
      "yy\n",
      "ttt\n",
      "hhhh\n",
      "ooooo\n",
      "nnnnnn\n"
     ]
    }
   ],
   "source": [
    "a = 'python'\n",
    "print(a[0]*1)\n",
    "print(a[1]*2)\n",
    "print(a[2]*3)\n",
    "print(a[3]*4)\n",
    "print(a[4]*5)\n",
    "print(a[5]*6)\n",
    "\n",
    "\n",
    "#for\n",
    "for i in range(len(a)):\n",
    "    print(a[i]*(i+1))\n",
    "    \n",
    "#while\n",
    "\n",
    "i = 0   #intiolisation\n",
    "while i < len(a): # condtion checking\n",
    "    print(a[i]*(i+1))\n",
    "    i+=1  # increment"
   ]
  },
  {
   "cell_type": "markdown",
   "metadata": {},
   "source": [
    "## Break\n",
    "\n",
    "-the break keyword is used to break out of a loop "
   ]
  },
  {
   "cell_type": "code",
   "execution_count": 128,
   "metadata": {},
   "outputs": [
    {
     "name": "stdout",
     "output_type": "stream",
     "text": [
      "0\n",
      "1\n",
      "2\n",
      "3\n",
      "0\n",
      "1\n",
      "2\n",
      "3\n"
     ]
    }
   ],
   "source": [
    "# for\n",
    "\n",
    "for i in range(9):\n",
    "    if i > 3:\n",
    "        break\n",
    "    print(i)\n",
    "    \n",
    "# while\n",
    "\n",
    "i = 0\n",
    "while i<9:\n",
    "    if i > 3:\n",
    "        break\n",
    "    print(i)\n",
    "    i=i+1"
   ]
  },
  {
   "cell_type": "markdown",
   "metadata": {},
   "source": [
    "## Continue \n",
    "\n",
    "the continue keyword is used to end the cureent iteration in a loop"
   ]
  },
  {
   "cell_type": "code",
   "execution_count": 47,
   "metadata": {},
   "outputs": [
    {
     "name": "stdout",
     "output_type": "stream",
     "text": [
      "0\n",
      "Mahender\n",
      "100\n",
      "1\n",
      "Mahender\n",
      "100\n",
      "2\n",
      "Mahender\n",
      "100\n",
      "4\n",
      "Mahender\n",
      "100\n",
      "5\n",
      "Mahender\n",
      "100\n",
      "6\n",
      "Mahender\n",
      "100\n",
      "7\n",
      "Mahender\n",
      "100\n",
      "8\n",
      "Mahender\n",
      "100\n"
     ]
    }
   ],
   "source": [
    "for i in range(9):\n",
    "    if i == 3:\n",
    "        continue\n",
    "    print(i)\n",
    "    print('Mahender')\n",
    "    print(100)"
   ]
  },
  {
   "cell_type": "code",
   "execution_count": 133,
   "metadata": {},
   "outputs": [
    {
     "name": "stdout",
     "output_type": "stream",
     "text": [
      "nnnnnn\n",
      "ooooo\n",
      "hhhh\n",
      "ttt\n",
      "yy\n",
      "p\n",
      "nnnnnn\n",
      "ooooo\n",
      "hhhh\n",
      "ttt\n",
      "yy\n",
      "p\n",
      "nnnnnn\n",
      "ooooo\n",
      "hhhh\n",
      "ttt\n",
      "yy\n",
      "p\n",
      "\n"
     ]
    }
   ],
   "source": [
    "# display the following output using for loop where the string is 'python'\n",
    "\n",
    "\n",
    "#nnnnnn\n",
    "#ooooo\n",
    "#hhhh\n",
    "#ttt\n",
    "#yy\n",
    "#p\n",
    "\n",
    "a = 'python'\n",
    "print(a[5]*6)\n",
    "print(a[4]*5)\n",
    "print(a[3]*4)\n",
    "print(a[2]*3)\n",
    "print(a[1]*2)\n",
    "print(a[0]*1)\n",
    "\n",
    "# for\n",
    "a = 'python' \n",
    "for i in range(len(a)): \n",
    "    print(a[len(a)-1-i]*(len(a)-i)) \n",
    "\n",
    "# while\n",
    "i = len(a)\n",
    "while i >=0:\n",
    "    print(a[i-1]*i)\n",
    "    i = i-1"
   ]
  },
  {
   "cell_type": "markdown",
   "metadata": {},
   "source": [
    "## Funtions"
   ]
  },
  {
   "cell_type": "code",
   "execution_count": 85,
   "metadata": {},
   "outputs": [],
   "source": [
    "# fucntion - DRY ( Do not repeat yourself)\n",
    "\n",
    "# fucntion has two parts\n",
    "# 1. fucntion defination - we define the function or task\n",
    "# 2. function call - we exceute a function\n",
    "\n",
    "\n",
    "# syntax\n",
    "# 1. function defination\n",
    "\n",
    "# def function name(parmater):\n",
    "#     statement1\n",
    "#     statemen2   \n",
    "#     statement3\n",
    "#     return stmnt 4\n",
    "\n",
    "# # paramter and return are optional"
   ]
  },
  {
   "cell_type": "code",
   "execution_count": 84,
   "metadata": {},
   "outputs": [
    {
     "name": "stdout",
     "output_type": "stream",
     "text": [
      "5\n",
      "5\n"
     ]
    }
   ],
   "source": [
    "# 2. function call\n",
    "# -func-name(arguments)\n",
    "# without args\n",
    "\n",
    "def sum():      # function defination\n",
    "    print(2+3)\n",
    "sum()           # function call\n",
    "\n",
    "\n",
    "# with arguments\n",
    "\n",
    "def sum(a,b):   # function defination\n",
    "    print(2+3)\n",
    "sum(2,3)        # function call"
   ]
  },
  {
   "cell_type": "code",
   "execution_count": 162,
   "metadata": {},
   "outputs": [
    {
     "name": "stdout",
     "output_type": "stream",
     "text": [
      "Enter your name    :  Mahender\n",
      "hello Mahender !\n"
     ]
    }
   ],
   "source": [
    "name = input('Enter your name    :  ')\n",
    "def greet(name):\n",
    "    print('hello '+ name + ' !')\n",
    "greet(name)"
   ]
  },
  {
   "cell_type": "code",
   "execution_count": 137,
   "metadata": {},
   "outputs": [
    {
     "name": "stdout",
     "output_type": "stream",
     "text": [
      "Enter the String   :level\n",
      "palindrome\n"
     ]
    }
   ],
   "source": [
    "a = input('Enter the String   :')\n",
    "def palindrome(a):\n",
    "    if  a== a[::-1] :\n",
    "        print('palindrome')\n",
    "    else:\n",
    "        print('not a palindrome')\n",
    "\n",
    "palindrome(a)"
   ]
  },
  {
   "cell_type": "code",
   "execution_count": 82,
   "metadata": {},
   "outputs": [
    {
     "name": "stdout",
     "output_type": "stream",
     "text": [
      "enter a string   :   mam\n",
      "palindrome\n",
      "None\n"
     ]
    }
   ],
   "source": [
    "def test_1(a): \n",
    "    if a==a[::-1]: \n",
    "        print(\"palindrome\") \n",
    "    else: \n",
    "        print(\"not a palindrome\") #test_1(\"level\")) \n",
    "        \n",
    "b=input(\"enter a string   :   \") \n",
    "print(test_1(b)) "
   ]
  },
  {
   "cell_type": "markdown",
   "metadata": {},
   "source": [
    "## different types of argument\n",
    "\n",
    "1. positional arguments\n",
    "2. default keyword\n",
    "3. default argmens\n",
    "4. varibale length argumnets"
   ]
  },
  {
   "cell_type": "markdown",
   "metadata": {},
   "source": [
    "## 1 positional argument\n",
    "- the order is important\n",
    "- number of args should match the number of paramters"
   ]
  },
  {
   "cell_type": "code",
   "execution_count": 155,
   "metadata": {},
   "outputs": [
    {
     "name": "stdout",
     "output_type": "stream",
     "text": [
      "10k\n",
      "24\n",
      "Mahender\n"
     ]
    },
    {
     "ename": "TypeError",
     "evalue": "emp_data() takes 3 positional arguments but 4 were given",
     "output_type": "error",
     "traceback": [
      "\u001b[1;31m---------------------------------------------------------------------------\u001b[0m",
      "\u001b[1;31mTypeError\u001b[0m                                 Traceback (most recent call last)",
      "\u001b[1;32m<ipython-input-155-707687d1f28e>\u001b[0m in \u001b[0;36m<module>\u001b[1;34m\u001b[0m\n\u001b[0;32m      8\u001b[0m \u001b[1;33m\u001b[0m\u001b[0m\n\u001b[0;32m      9\u001b[0m \u001b[1;31m#order is imp\u001b[0m\u001b[1;33m\u001b[0m\u001b[1;33m\u001b[0m\u001b[1;33m\u001b[0m\u001b[0m\n\u001b[1;32m---> 10\u001b[1;33m \u001b[0memp_data\u001b[0m\u001b[1;33m(\u001b[0m\u001b[1;34m'10k'\u001b[0m \u001b[1;33m,\u001b[0m \u001b[1;34m'24'\u001b[0m \u001b[1;33m,\u001b[0m \u001b[1;34m'avdf'\u001b[0m\u001b[1;33m,\u001b[0m\u001b[1;34m'fdh'\u001b[0m \u001b[1;33m)\u001b[0m\u001b[1;33m\u001b[0m\u001b[1;33m\u001b[0m\u001b[0m\n\u001b[0m",
      "\u001b[1;31mTypeError\u001b[0m: emp_data() takes 3 positional arguments but 4 were given"
     ]
    }
   ],
   "source": [
    "def emp_data(emp_name , emp_sal , emp_age):\n",
    "    print(emp_name)\n",
    "    print(emp_sal)    \n",
    "    print(emp_age)\n",
    "\n",
    "#order is imp\n",
    "emp_data('10k' , '24','Mahender')\n",
    "\n",
    "#order is imp\n",
    "emp_data('10k' , '24' , 'avdf','fdh' )"
   ]
  },
  {
   "cell_type": "markdown",
   "metadata": {},
   "source": [
    "## 2.default arguments"
   ]
  },
  {
   "cell_type": "code",
   "execution_count": 164,
   "metadata": {},
   "outputs": [
    {
     "name": "stdout",
     "output_type": "stream",
     "text": [
      "10k\n",
      "24\n",
      "Mahender\n",
      "New Delhi\n",
      "20k\n",
      "25\n",
      "Inder\n",
      "banglore\n"
     ]
    }
   ],
   "source": [
    "def emp_data(emp_name , emp_sal , emp_age , emp_location = 'banglore'):\n",
    "    print(emp_name)\n",
    "    print(emp_sal)    \n",
    "    print(emp_age)\n",
    "    print(emp_location)\n",
    "\n",
    "#order is imp\n",
    "emp_data('10k' , '24','Mahender' , 'New Delhi')\n",
    "emp_data('20k' , '25' , 'Inder' )\n",
    "\n",
    "# #order is imp\n",
    "# emp_data('10k' , '24' , 'avdf' , 'sadsad')\n",
    "\n",
    "\n",
    "# impoertant -  default argumnet should follow the positional argument"
   ]
  },
  {
   "cell_type": "markdown",
   "metadata": {},
   "source": [
    "### 3. keyword argument"
   ]
  },
  {
   "cell_type": "code",
   "execution_count": 99,
   "metadata": {},
   "outputs": [
    {
     "name": "stdout",
     "output_type": "stream",
     "text": [
      "mahender\n",
      "10k\n",
      "24\n",
      "516282\n",
      "banglore\n",
      "Inder\n",
      "10k\n",
      "24\n",
      "516282\n",
      "banglore\n"
     ]
    }
   ],
   "source": [
    "#order is not important\n",
    "def emp_data(emp_name , emp_sal , emp_age , emp_pin = '516282' , emp_location = 'banglore'):\n",
    "    print(emp_name)\n",
    "    print(emp_sal)    \n",
    "    print(emp_age)\n",
    "    print(emp_pin)\n",
    "    print(emp_location)\n",
    "    \n",
    "emp_data(emp_name = 'mahender' , emp_sal = '10k' , emp_age = '24')\n",
    "emp_data(emp_age = '24' , emp_name = 'Inder' , emp_sal = '10k')"
   ]
  },
  {
   "cell_type": "markdown",
   "metadata": {},
   "source": [
    "### 4.varibale length argments\n",
    "- *args - takes a varibale length positional args and stores in the tuple."
   ]
  },
  {
   "cell_type": "code",
   "execution_count": 165,
   "metadata": {},
   "outputs": [
    {
     "name": "stdout",
     "output_type": "stream",
     "text": [
      "('10k', '24', 'mahender', 'delhi')\n"
     ]
    }
   ],
   "source": [
    "def emp_data(*args):\n",
    "    print(args)\n",
    "    \n",
    "emp_data('10k' , '24','mahender' , 'delhi')"
   ]
  },
  {
   "cell_type": "code",
   "execution_count": 166,
   "metadata": {},
   "outputs": [
    {
     "name": "stdout",
     "output_type": "stream",
     "text": [
      "Mahender\n",
      "10k\n",
      "24\n",
      "516282\n",
      "banglore\n",
      "()\n",
      "abc\n",
      "1\n",
      "2\n",
      "3\n",
      "4\n",
      "(5, 6, 7, 8, 9, 0)\n"
     ]
    }
   ],
   "source": [
    "# 1 - args athe the end\n",
    "def emp_data(emp_name , emp_sal , emp_ \n",
    "    print(emp_sal)    \n",
    "    print(emp_age)\n",
    "    print(emp_pin)\n",
    "    print(emp_location)\n",
    "    print(args)\n",
    "    \n",
    "emp_data(emp_name = 'Mahender' , emp_sal = '10k' , emp_age = '24')\n",
    "\n",
    "emp_data('abc' , 1,2,3,4,5,6,7,8,9,0)"
   ]
  },
  {
   "cell_type": "code",
   "execution_count": 168,
   "metadata": {},
   "outputs": [
    {
     "name": "stdout",
     "output_type": "stream",
     "text": [
      "mahender\n",
      "10k\n",
      "24\n",
      "516282\n",
      "banglore\n",
      "()\n",
      "abc\n",
      "1\n",
      "2\n",
      "516282\n",
      "banglore\n",
      "(3, 4, 5, 6, 7, 8, 9, 0)\n",
      "abc\n",
      "1\n",
      "2\n",
      "10054\n",
      "jaipur\n",
      "(3, 4, 5, 6, 7, 8, 9, 0)\n"
     ]
    }
   ],
   "source": [
    "# 2 - args before dafault\n",
    "def emp_data(emp_name , emp_sal , emp_age , *args,  emp_pin = '516282' , emp_location = 'banglore' ):\n",
    "    print(emp_name)\n",
    "    print(emp_sal)    \n",
    "    print(emp_age)\n",
    "    print(emp_pin)\n",
    "    print(emp_location)\n",
    "    print(args)\n",
    "    \n",
    "emp_data(emp_name = 'mahender' , emp_sal = '10k' , emp_age = '24')\n",
    "\n",
    "emp_data('abc' , 1,2,3,4,5,6,7,8,9,0)\n",
    "\n",
    "emp_data('abc' , 1,2,3,4,5,6,7,8,9,0 , emp_pin = '10054' , emp_location = 'jaipur')"
   ]
  },
  {
   "cell_type": "code",
   "execution_count": 170,
   "metadata": {},
   "outputs": [
    {
     "name": "stdout",
     "output_type": "stream",
     "text": [
      "mahender\n",
      "10k\n",
      "24\n",
      "516282\n",
      "banglore\n",
      "()\n",
      "mahender\n",
      "10k\n",
      "24\n",
      "516282\n",
      "banglore\n",
      "('abc', 1, 2, 3, 4, 5, 6, 7, 8, 9, 0)\n"
     ]
    }
   ],
   "source": [
    "# 3 - args at start\n",
    "def emp_data(*args  , emp_name , emp_sal , emp_age ,  emp_pin = '516282' , emp_location = 'banglore' ):\n",
    "    print(emp_name)\n",
    "    print(emp_sal)    \n",
    "    print(emp_age)\n",
    "    print(emp_pin)\n",
    "    print(emp_location)\n",
    "    print(args)\n",
    "    \n",
    "emp_data(emp_name = 'mahender' , emp_sal = '10k' , emp_age = '24')\n",
    "\n",
    "emp_data('abc' , 1,2,3,4,5,6,7,8,9,0 , emp_name = \"mahender\" , emp_sal = '10k' , emp_age = '24')"
   ]
  },
  {
   "cell_type": "code",
   "execution_count": 111,
   "metadata": {},
   "outputs": [
    {
     "name": "stdout",
     "output_type": "stream",
     "text": [
      "mahender\n",
      "10k\n",
      "24\n",
      "516282\n",
      "banglore\n",
      "{}\n",
      "mahender\n",
      "1\n",
      "2\n",
      "3\n",
      "4\n",
      "{'abc': 5, 'xyz': 6, 'aaa': 7}\n"
     ]
    }
   ],
   "source": [
    "# **kwargs\n",
    "#  *args - takes a varibale keyword args and stores in the dic\n",
    "\n",
    "# 1 \n",
    "def emp_data(emp_name , emp_sal , emp_age ,  emp_pin = '516282' , emp_location = 'banglore', **kwargs):\n",
    "    print(emp_name)\n",
    "    print(emp_sal)    \n",
    "    print(emp_age)\n",
    "    print(emp_pin)\n",
    "    print(emp_location)\n",
    "    print(kwargs)\n",
    "    \n",
    "emp_data(emp_name = 'mahender' , emp_sal = '10k' , emp_age = '24')\n",
    "\n",
    "emp_data('mahender' , 1,2,3,4, abc = 5, xyz = 6, aaa = 7)"
   ]
  },
  {
   "cell_type": "code",
   "execution_count": null,
   "metadata": {},
   "outputs": [],
   "source": []
  },
  {
   "cell_type": "code",
   "execution_count": null,
   "metadata": {},
   "outputs": [],
   "source": []
  },
  {
   "cell_type": "code",
   "execution_count": null,
   "metadata": {},
   "outputs": [],
   "source": []
  }
 ],
 "metadata": {
  "kernelspec": {
   "display_name": "Python 3",
   "language": "python",
   "name": "python3"
  },
  "language_info": {
   "codemirror_mode": {
    "name": "ipython",
    "version": 3
   },
   "file_extension": ".py",
   "mimetype": "text/x-python",
   "name": "python",
   "nbconvert_exporter": "python",
   "pygments_lexer": "ipython3",
   "version": "3.8.5"
  }
 },
 "nbformat": 4,
 "nbformat_minor": 4
}
